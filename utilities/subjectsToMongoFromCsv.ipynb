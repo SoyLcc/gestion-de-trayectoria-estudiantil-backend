{
 "cells": [
  {
   "cell_type": "markdown",
   "metadata": {},
   "source": [
    "# This csv was scraped from the original student plan located on [portal de alumnos > mis materias > plan de estudios pdf ]"
   ]
  },
  {
   "cell_type": "code",
   "execution_count": 4,
   "metadata": {},
   "outputs": [
    {
     "data": {
      "text/html": [
       "<div>\n",
       "<style scoped>\n",
       "    .dataframe tbody tr th:only-of-type {\n",
       "        vertical-align: middle;\n",
       "    }\n",
       "\n",
       "    .dataframe tbody tr th {\n",
       "        vertical-align: top;\n",
       "    }\n",
       "\n",
       "    .dataframe thead th {\n",
       "        text-align: right;\n",
       "    }\n",
       "</style>\n",
       "<table border=\"1\" class=\"dataframe\">\n",
       "  <thead>\n",
       "    <tr style=\"text-align: right;\">\n",
       "      <th></th>\n",
       "      <th>clave</th>\n",
       "      <th>nombre</th>\n",
       "      <th>tipo</th>\n",
       "      <th>creditos</th>\n",
       "      <th>teo</th>\n",
       "      <th>lab</th>\n",
       "      <th>eje</th>\n",
       "      <th>req</th>\n",
       "      <th>requisitos</th>\n",
       "    </tr>\n",
       "  </thead>\n",
       "  <tbody>\n",
       "    <tr>\n",
       "      <th>124</th>\n",
       "      <td>9510</td>\n",
       "      <td>VISIÓN POR COMPUTADORA</td>\n",
       "      <td>OPT</td>\n",
       "      <td>8</td>\n",
       "      <td>3</td>\n",
       "      <td>2</td>\n",
       "      <td>E</td>\n",
       "      <td>0</td>\n",
       "      <td>9508</td>\n",
       "    </tr>\n",
       "    <tr>\n",
       "      <th>125</th>\n",
       "      <td>9439</td>\n",
       "      <td>ACTIVIDADES DE VINCULACIÓN</td>\n",
       "      <td>OPT</td>\n",
       "      <td>20</td>\n",
       "      <td>0</td>\n",
       "      <td>20</td>\n",
       "      <td>I</td>\n",
       "      <td>0</td>\n",
       "      <td>0</td>\n",
       "    </tr>\n",
       "    <tr>\n",
       "      <th>126</th>\n",
       "      <td>81</td>\n",
       "      <td>ESTANCIA DE INVESTIGACIÓN CIENTÍFICA</td>\n",
       "      <td>OPT</td>\n",
       "      <td>10</td>\n",
       "      <td>0</td>\n",
       "      <td>10</td>\n",
       "      <td>NaN</td>\n",
       "      <td>0</td>\n",
       "      <td>0</td>\n",
       "    </tr>\n",
       "    <tr>\n",
       "      <th>127</th>\n",
       "      <td>660</td>\n",
       "      <td>DESEMPEÑO EN EVALUACIÓN EXTERNA (CENEVALEGEL)</td>\n",
       "      <td>OPT</td>\n",
       "      <td>10</td>\n",
       "      <td>0</td>\n",
       "      <td>10</td>\n",
       "      <td>NaN</td>\n",
       "      <td>0</td>\n",
       "      <td>0</td>\n",
       "    </tr>\n",
       "    <tr>\n",
       "      <th>128</th>\n",
       "      <td>733</td>\n",
       "      <td>DESEMPEÑO EN EVALUACIÓN EXTERNA (CENEVALEXDIAL)</td>\n",
       "      <td>OPT</td>\n",
       "      <td>10</td>\n",
       "      <td>0</td>\n",
       "      <td>10</td>\n",
       "      <td>NaN</td>\n",
       "      <td>0</td>\n",
       "      <td>0</td>\n",
       "    </tr>\n",
       "  </tbody>\n",
       "</table>\n",
       "</div>"
      ],
      "text/plain": [
       "     clave                                           nombre tipo  creditos  \\\n",
       "124   9510                           VISIÓN POR COMPUTADORA  OPT         8   \n",
       "125   9439                       ACTIVIDADES DE VINCULACIÓN  OPT        20   \n",
       "126     81             ESTANCIA DE INVESTIGACIÓN CIENTÍFICA  OPT        10   \n",
       "127    660    DESEMPEÑO EN EVALUACIÓN EXTERNA (CENEVALEGEL)  OPT        10   \n",
       "128    733  DESEMPEÑO EN EVALUACIÓN EXTERNA (CENEVALEXDIAL)  OPT        10   \n",
       "\n",
       "     teo  lab  eje  req requisitos  \n",
       "124    3    2    E    0       9508  \n",
       "125    0   20    I    0          0  \n",
       "126    0   10  NaN    0          0  \n",
       "127    0   10  NaN    0          0  \n",
       "128    0   10  NaN    0          0  "
      ]
     },
     "execution_count": 4,
     "metadata": {},
     "output_type": "execute_result"
    }
   ],
   "source": [
    "import pandas as pd \n",
    "\n",
    "data = pd.read_csv(\"./Documents/plandeestudios.csv\",encoding='latin1') \n",
    "data.tail()"
   ]
  },
  {
   "cell_type": "markdown",
   "metadata": {},
   "source": [
    "# Iterate rows, Post them to your local enviroment of mongodb"
   ]
  },
  {
   "cell_type": "code",
   "execution_count": 9,
   "metadata": {},
   "outputs": [],
   "source": [
    "import requests \n",
    "\n",
    "for index, row in data.iterrows():\n",
    "  req = ''\n",
    "  if(row['requisitos'] != '0'):\n",
    "    req = row['requisitos']\n",
    "    json = {\n",
    "        'key': row['clave'], \n",
    "        'name': row['nombre'], \n",
    "        'type': row['tipo'], \n",
    "        'credits': row['creditos'], \n",
    "        'theory': row['teo'], \n",
    "        'lab': row['lab'], \n",
    "        'axis': row['eje'], \n",
    "        'minCredits': row['req'], \n",
    "        'requirements': req\n",
    "    }\n",
    "    requests.post(url=\"http://localhost:4000/api/subjects\", json=json) "
   ]
  },
  {
   "cell_type": "code",
   "execution_count": null,
   "metadata": {},
   "outputs": [],
   "source": []
  }
 ],
 "metadata": {
  "kernelspec": {
   "display_name": "Python 3",
   "language": "python",
   "name": "python3"
  },
  "language_info": {
   "codemirror_mode": {
    "name": "ipython",
    "version": 3
   },
   "file_extension": ".py",
   "mimetype": "text/x-python",
   "name": "python",
   "nbconvert_exporter": "python",
   "pygments_lexer": "ipython3",
   "version": "3.7.6"
  }
 },
 "nbformat": 4,
 "nbformat_minor": 4
}
